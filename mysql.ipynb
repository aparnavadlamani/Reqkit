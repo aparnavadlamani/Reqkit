{
 "cells": [
  {
   "cell_type": "code",
   "execution_count": 1,
   "metadata": {},
   "outputs": [],
   "source": [
    "#conda install -c conda-forge pymysql"
   ]
  },
  {
   "cell_type": "code",
   "execution_count": 2,
   "metadata": {},
   "outputs": [],
   "source": [
    "import csv\n",
    "import pymysql"
   ]
  },
  {
   "cell_type": "code",
   "execution_count": 3,
   "metadata": {},
   "outputs": [
    {
     "name": "stdout",
     "output_type": "stream",
     "text": [
      "('VLCdb',)\n",
      "('users',)\n",
      "(1050, \"Table 'VLCdb' already exists\")\n"
     ]
    }
   ],
   "source": [
    "mydb = pymysql.connect(host='localhost',\n",
    "    user='root',\n",
    "    passwd='password',\n",
    "    db='app')\n",
    "\n",
    "cursor = mydb.cursor()\n",
    "\n",
    "cursor.execute(\"SHOW TABLES\")\n",
    "\n",
    "for x in cursor:\n",
    "    print(x)\n",
    "    \n",
    "try:\n",
    "    cursor.execute(\"\"\"CREATE TABLE VLCdb(Name VARCHAR(255),\n",
    "                                       Review VARCHAR(255) NOT NULL,\n",
    "                                       UpVotes INT, \n",
    "                                       Rating FLOAT, \n",
    "                                       Date VARCHAR(255),\n",
    "                                       Keywords VARCHAR(255),\n",
    "                                       UNIQUE(Name, Review, UpVotes, Rating, Date))\"\"\")\n",
    "except Exception as e:\n",
    "    print(e)"
   ]
  },
  {
   "cell_type": "code",
   "execution_count": 11,
   "metadata": {},
   "outputs": [],
   "source": [
    "with open('dataset_output.csv', 'r') as csvfile:\n",
    "    reader = csv.reader(csvfile, skipinitialspace=True)\n",
    "    row_count = 0\n",
    "    for row in reader:\n",
    "        if(row_count==0):\n",
    "            row_count+=1\n",
    "        else:\n",
    "            #print(len(row),row)\n",
    "            try:\n",
    "                cursor.execute('INSERT INTO VLCdb(Name, Review, UpVotes, Rating, Date, Keywords ) VALUES(\"%s\", \"%s\", %s, %s, \"%s\",\"%s\")', row)\n",
    "            except Exception:\n",
    "                    continue\n",
    "                    \n",
    "mydb.commit()\n",
    "cursor.close()\n",
    "#print(\"Done\")"
   ]
  },
  {
   "cell_type": "code",
   "execution_count": null,
   "metadata": {},
   "outputs": [],
   "source": []
  }
 ],
 "metadata": {
  "kernelspec": {
   "display_name": "Python 3",
   "language": "python",
   "name": "python3"
  },
  "language_info": {
   "codemirror_mode": {
    "name": "ipython",
    "version": 3
   },
   "file_extension": ".py",
   "mimetype": "text/x-python",
   "name": "python",
   "nbconvert_exporter": "python",
   "pygments_lexer": "ipython3",
   "version": "3.7.4"
  }
 },
 "nbformat": 4,
 "nbformat_minor": 2
}
